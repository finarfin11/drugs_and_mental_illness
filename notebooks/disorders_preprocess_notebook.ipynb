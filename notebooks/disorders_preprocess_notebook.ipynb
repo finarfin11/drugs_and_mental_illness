{
 "cells": [
  {
   "cell_type": "code",
   "execution_count": 1,
   "id": "c914f523-a543-4aca-bc3c-01d427a55af4",
   "metadata": {},
   "outputs": [
    {
     "name": "stdout",
     "output_type": "stream",
     "text": [
      "D:\\SoftUni\\Data Science\\Project\n"
     ]
    }
   ],
   "source": [
    "%cd .."
   ]
  },
  {
   "cell_type": "markdown",
   "id": "7c703398-ef0f-4866-9e82-ab58ea2990e9",
   "metadata": {},
   "source": [
    "### Imports"
   ]
  },
  {
   "cell_type": "code",
   "execution_count": 2,
   "id": "87175874-ea9d-47d5-90b0-9fe531a29f6a",
   "metadata": {},
   "outputs": [],
   "source": [
    "import pandas as pd\n",
    "import numpy as np\n",
    "from src import functions"
   ]
  },
  {
   "cell_type": "markdown",
   "id": "a830abee-389d-4c4f-8f6b-45b684a0c7bd",
   "metadata": {},
   "source": [
    "### Loading data"
   ]
  },
  {
   "cell_type": "code",
   "execution_count": 3,
   "id": "c16bc2eb-6d6c-49ec-a7d3-369485707f0c",
   "metadata": {},
   "outputs": [],
   "source": [
    "mental_disorders_data = pd.read_csv('data/mental_disorders.csv')"
   ]
  },
  {
   "cell_type": "code",
   "execution_count": 4,
   "id": "80452312-4f85-4536-bcc8-9eb9c4886e68",
   "metadata": {},
   "outputs": [
    {
     "data": {
      "text/html": [
       "<div>\n",
       "<style scoped>\n",
       "    .dataframe tbody tr th:only-of-type {\n",
       "        vertical-align: middle;\n",
       "    }\n",
       "\n",
       "    .dataframe tbody tr th {\n",
       "        vertical-align: top;\n",
       "    }\n",
       "\n",
       "    .dataframe thead th {\n",
       "        text-align: right;\n",
       "    }\n",
       "</style>\n",
       "<table border=\"1\" class=\"dataframe\">\n",
       "  <thead>\n",
       "    <tr style=\"text-align: right;\">\n",
       "      <th></th>\n",
       "      <th>Location</th>\n",
       "      <th>Year</th>\n",
       "      <th>Age</th>\n",
       "      <th>Sex</th>\n",
       "      <th>Cause of death or injury</th>\n",
       "      <th>Measure</th>\n",
       "      <th>Value</th>\n",
       "      <th>Lower bound</th>\n",
       "      <th>Upper bound</th>\n",
       "    </tr>\n",
       "  </thead>\n",
       "  <tbody>\n",
       "    <tr>\n",
       "      <th>0</th>\n",
       "      <td>Afghanistan</td>\n",
       "      <td>2021.0</td>\n",
       "      <td>Age-standardized</td>\n",
       "      <td>Both</td>\n",
       "      <td>Mental disorders</td>\n",
       "      <td>Prevalent cases per 100,000</td>\n",
       "      <td>17904.245131</td>\n",
       "      <td>15492.673337</td>\n",
       "      <td>20696.401183</td>\n",
       "    </tr>\n",
       "    <tr>\n",
       "      <th>1</th>\n",
       "      <td>Angola</td>\n",
       "      <td>2021.0</td>\n",
       "      <td>Age-standardized</td>\n",
       "      <td>Both</td>\n",
       "      <td>Mental disorders</td>\n",
       "      <td>Prevalent cases per 100,000</td>\n",
       "      <td>14517.480604</td>\n",
       "      <td>12748.492025</td>\n",
       "      <td>16638.169306</td>\n",
       "    </tr>\n",
       "    <tr>\n",
       "      <th>2</th>\n",
       "      <td>Albania</td>\n",
       "      <td>2021.0</td>\n",
       "      <td>Age-standardized</td>\n",
       "      <td>Both</td>\n",
       "      <td>Mental disorders</td>\n",
       "      <td>Prevalent cases per 100,000</td>\n",
       "      <td>12239.869258</td>\n",
       "      <td>10809.258625</td>\n",
       "      <td>13998.851842</td>\n",
       "    </tr>\n",
       "    <tr>\n",
       "      <th>3</th>\n",
       "      <td>Andorra</td>\n",
       "      <td>2021.0</td>\n",
       "      <td>Age-standardized</td>\n",
       "      <td>Both</td>\n",
       "      <td>Mental disorders</td>\n",
       "      <td>Prevalent cases per 100,000</td>\n",
       "      <td>16246.594797</td>\n",
       "      <td>14193.602393</td>\n",
       "      <td>18600.414692</td>\n",
       "    </tr>\n",
       "    <tr>\n",
       "      <th>4</th>\n",
       "      <td>United Arab Emirates</td>\n",
       "      <td>2021.0</td>\n",
       "      <td>Age-standardized</td>\n",
       "      <td>Both</td>\n",
       "      <td>Mental disorders</td>\n",
       "      <td>Prevalent cases per 100,000</td>\n",
       "      <td>13856.088574</td>\n",
       "      <td>12223.777898</td>\n",
       "      <td>15829.943793</td>\n",
       "    </tr>\n",
       "    <tr>\n",
       "      <th>...</th>\n",
       "      <td>...</td>\n",
       "      <td>...</td>\n",
       "      <td>...</td>\n",
       "      <td>...</td>\n",
       "      <td>...</td>\n",
       "      <td>...</td>\n",
       "      <td>...</td>\n",
       "      <td>...</td>\n",
       "      <td>...</td>\n",
       "    </tr>\n",
       "    <tr>\n",
       "      <th>201</th>\n",
       "      <td>Egypt</td>\n",
       "      <td>2021.0</td>\n",
       "      <td>Age-standardized</td>\n",
       "      <td>Both</td>\n",
       "      <td>Mental disorders</td>\n",
       "      <td>Prevalent cases per 100,000</td>\n",
       "      <td>15360.979870</td>\n",
       "      <td>13533.839581</td>\n",
       "      <td>17589.294552</td>\n",
       "    </tr>\n",
       "    <tr>\n",
       "      <th>202</th>\n",
       "      <td>Sudan</td>\n",
       "      <td>2021.0</td>\n",
       "      <td>Age-standardized</td>\n",
       "      <td>Both</td>\n",
       "      <td>Mental disorders</td>\n",
       "      <td>Prevalent cases per 100,000</td>\n",
       "      <td>16524.691383</td>\n",
       "      <td>14636.103054</td>\n",
       "      <td>18906.590807</td>\n",
       "    </tr>\n",
       "    <tr>\n",
       "      <th>203</th>\n",
       "      <td>China</td>\n",
       "      <td>2021.0</td>\n",
       "      <td>Age-standardized</td>\n",
       "      <td>Both</td>\n",
       "      <td>Mental disorders</td>\n",
       "      <td>Prevalent cases per 100,000</td>\n",
       "      <td>11404.913749</td>\n",
       "      <td>10541.437052</td>\n",
       "      <td>12378.076465</td>\n",
       "    </tr>\n",
       "    <tr>\n",
       "      <th>204</th>\n",
       "      <td>Institute for Health Metrics and Evaluation (I...</td>\n",
       "      <td>NaN</td>\n",
       "      <td>NaN</td>\n",
       "      <td>NaN</td>\n",
       "      <td>NaN</td>\n",
       "      <td>NaN</td>\n",
       "      <td>NaN</td>\n",
       "      <td>NaN</td>\n",
       "      <td>NaN</td>\n",
       "    </tr>\n",
       "    <tr>\n",
       "      <th>205</th>\n",
       "      <td>For terms and conditions of use, please visit ...</td>\n",
       "      <td>NaN</td>\n",
       "      <td>NaN</td>\n",
       "      <td>NaN</td>\n",
       "      <td>NaN</td>\n",
       "      <td>NaN</td>\n",
       "      <td>NaN</td>\n",
       "      <td>NaN</td>\n",
       "      <td>NaN</td>\n",
       "    </tr>\n",
       "  </tbody>\n",
       "</table>\n",
       "<p>206 rows × 9 columns</p>\n",
       "</div>"
      ],
      "text/plain": [
       "                                              Location    Year  \\\n",
       "0                                          Afghanistan  2021.0   \n",
       "1                                               Angola  2021.0   \n",
       "2                                              Albania  2021.0   \n",
       "3                                              Andorra  2021.0   \n",
       "4                                 United Arab Emirates  2021.0   \n",
       "..                                                 ...     ...   \n",
       "201                                              Egypt  2021.0   \n",
       "202                                              Sudan  2021.0   \n",
       "203                                              China  2021.0   \n",
       "204  Institute for Health Metrics and Evaluation (I...     NaN   \n",
       "205  For terms and conditions of use, please visit ...     NaN   \n",
       "\n",
       "                  Age   Sex Cause of death or injury  \\\n",
       "0    Age-standardized  Both         Mental disorders   \n",
       "1    Age-standardized  Both         Mental disorders   \n",
       "2    Age-standardized  Both         Mental disorders   \n",
       "3    Age-standardized  Both         Mental disorders   \n",
       "4    Age-standardized  Both         Mental disorders   \n",
       "..                ...   ...                      ...   \n",
       "201  Age-standardized  Both         Mental disorders   \n",
       "202  Age-standardized  Both         Mental disorders   \n",
       "203  Age-standardized  Both         Mental disorders   \n",
       "204               NaN   NaN                      NaN   \n",
       "205               NaN   NaN                      NaN   \n",
       "\n",
       "                         Measure         Value   Lower bound   Upper bound  \n",
       "0    Prevalent cases per 100,000  17904.245131  15492.673337  20696.401183  \n",
       "1    Prevalent cases per 100,000  14517.480604  12748.492025  16638.169306  \n",
       "2    Prevalent cases per 100,000  12239.869258  10809.258625  13998.851842  \n",
       "3    Prevalent cases per 100,000  16246.594797  14193.602393  18600.414692  \n",
       "4    Prevalent cases per 100,000  13856.088574  12223.777898  15829.943793  \n",
       "..                           ...           ...           ...           ...  \n",
       "201  Prevalent cases per 100,000  15360.979870  13533.839581  17589.294552  \n",
       "202  Prevalent cases per 100,000  16524.691383  14636.103054  18906.590807  \n",
       "203  Prevalent cases per 100,000  11404.913749  10541.437052  12378.076465  \n",
       "204                          NaN           NaN           NaN           NaN  \n",
       "205                          NaN           NaN           NaN           NaN  \n",
       "\n",
       "[206 rows x 9 columns]"
      ]
     },
     "execution_count": 4,
     "metadata": {},
     "output_type": "execute_result"
    }
   ],
   "source": [
    "mental_disorders_data"
   ]
  },
  {
   "cell_type": "markdown",
   "id": "71a25e46-8902-4228-ab1b-b7c50cd81ab3",
   "metadata": {},
   "source": [
    "### Metadata"
   ]
  },
  {
   "cell_type": "markdown",
   "id": "2486c41b-0350-4f73-84b3-bda09243d901",
   "metadata": {},
   "source": [
    "Mental disorders dataset has 204 observations of 9 features. It contains information about prevalent cases of mental illnes worldwide for 2021 for both sexes. The information is age-standardized which means that it takes into account the differences in the age structure of each country.[[1]](#References) It is provided in the 'Value 'column and is measured in prevalent cases per 100 000 people. Thus the values ​​of different countries could be compared unbiased.\n",
    "\n",
    "The source of this dataset is https://www.healthdata.org/research-analysis/health-risks-issues/mental-health."
   ]
  },
  {
   "cell_type": "markdown",
   "id": "c2a1a85b-d499-49b7-9c55-df3c100c5656",
   "metadata": {},
   "source": [
    "### Exploration and cleaning"
   ]
  },
  {
   "cell_type": "code",
   "execution_count": 5,
   "id": "8945483e-6369-4e54-aa5f-c68f2413fc59",
   "metadata": {},
   "outputs": [
    {
     "name": "stdout",
     "output_type": "stream",
     "text": [
      "<class 'pandas.core.frame.DataFrame'>\n",
      "RangeIndex: 206 entries, 0 to 205\n",
      "Data columns (total 9 columns):\n",
      " #   Column                    Non-Null Count  Dtype  \n",
      "---  ------                    --------------  -----  \n",
      " 0   Location                  206 non-null    object \n",
      " 1   Year                      204 non-null    float64\n",
      " 2   Age                       204 non-null    object \n",
      " 3   Sex                       204 non-null    object \n",
      " 4   Cause of death or injury  204 non-null    object \n",
      " 5   Measure                   204 non-null    object \n",
      " 6   Value                     204 non-null    float64\n",
      " 7   Lower bound               204 non-null    float64\n",
      " 8   Upper bound               204 non-null    float64\n",
      "dtypes: float64(4), object(5)\n",
      "memory usage: 14.6+ KB\n"
     ]
    }
   ],
   "source": [
    "mental_disorders_data.info()"
   ]
  },
  {
   "cell_type": "code",
   "execution_count": 6,
   "id": "c35f1853-f9c9-493a-af76-da3142b550ad",
   "metadata": {},
   "outputs": [
    {
     "data": {
      "text/plain": [
       "array([False])"
      ]
     },
     "execution_count": 6,
     "metadata": {},
     "output_type": "execute_result"
    }
   ],
   "source": [
    "mental_disorders_data.duplicated().unique()"
   ]
  },
  {
   "cell_type": "markdown",
   "id": "52de0d95-e867-4330-9150-9cc4489fa0b3",
   "metadata": {},
   "source": [
    "There are no duplicated observations nor missing values in this dataset.\n",
    "\n",
    "The last two rows are not observations but contain information about data provider and terms of use. It is safe to delete them."
   ]
  },
  {
   "cell_type": "code",
   "execution_count": 7,
   "id": "e3356de6-fdc1-4ee2-8c76-59d889681c09",
   "metadata": {},
   "outputs": [],
   "source": [
    "mental_disorders_data = mental_disorders_data.iloc[:-2]"
   ]
  },
  {
   "cell_type": "code",
   "execution_count": 8,
   "id": "a37249c4-9cc6-44c5-8723-287ebacf4c8a",
   "metadata": {},
   "outputs": [
    {
     "data": {
      "text/html": [
       "<div>\n",
       "<style scoped>\n",
       "    .dataframe tbody tr th:only-of-type {\n",
       "        vertical-align: middle;\n",
       "    }\n",
       "\n",
       "    .dataframe tbody tr th {\n",
       "        vertical-align: top;\n",
       "    }\n",
       "\n",
       "    .dataframe thead th {\n",
       "        text-align: right;\n",
       "    }\n",
       "</style>\n",
       "<table border=\"1\" class=\"dataframe\">\n",
       "  <thead>\n",
       "    <tr style=\"text-align: right;\">\n",
       "      <th></th>\n",
       "      <th>Location</th>\n",
       "      <th>Year</th>\n",
       "      <th>Age</th>\n",
       "      <th>Sex</th>\n",
       "      <th>Cause of death or injury</th>\n",
       "      <th>Measure</th>\n",
       "      <th>Value</th>\n",
       "      <th>Lower bound</th>\n",
       "      <th>Upper bound</th>\n",
       "    </tr>\n",
       "  </thead>\n",
       "  <tbody>\n",
       "    <tr>\n",
       "      <th>202</th>\n",
       "      <td>Sudan</td>\n",
       "      <td>2021.0</td>\n",
       "      <td>Age-standardized</td>\n",
       "      <td>Both</td>\n",
       "      <td>Mental disorders</td>\n",
       "      <td>Prevalent cases per 100,000</td>\n",
       "      <td>16524.691383</td>\n",
       "      <td>14636.103054</td>\n",
       "      <td>18906.590807</td>\n",
       "    </tr>\n",
       "    <tr>\n",
       "      <th>203</th>\n",
       "      <td>China</td>\n",
       "      <td>2021.0</td>\n",
       "      <td>Age-standardized</td>\n",
       "      <td>Both</td>\n",
       "      <td>Mental disorders</td>\n",
       "      <td>Prevalent cases per 100,000</td>\n",
       "      <td>11404.913749</td>\n",
       "      <td>10541.437052</td>\n",
       "      <td>12378.076465</td>\n",
       "    </tr>\n",
       "  </tbody>\n",
       "</table>\n",
       "</div>"
      ],
      "text/plain": [
       "    Location    Year               Age   Sex Cause of death or injury  \\\n",
       "202    Sudan  2021.0  Age-standardized  Both         Mental disorders   \n",
       "203    China  2021.0  Age-standardized  Both         Mental disorders   \n",
       "\n",
       "                         Measure         Value   Lower bound   Upper bound  \n",
       "202  Prevalent cases per 100,000  16524.691383  14636.103054  18906.590807  \n",
       "203  Prevalent cases per 100,000  11404.913749  10541.437052  12378.076465  "
      ]
     },
     "execution_count": 8,
     "metadata": {},
     "output_type": "execute_result"
    }
   ],
   "source": [
    "mental_disorders_data.tail(2)"
   ]
  },
  {
   "cell_type": "markdown",
   "id": "7d963118-dbd9-4f5c-8839-73f58a652530",
   "metadata": {},
   "source": [
    "The names of the columns have to be standardized to snake_case for more easy work."
   ]
  },
  {
   "cell_type": "code",
   "execution_count": 9,
   "id": "6f646b0a-ae0f-4747-95df-aa7c1f7ac6a4",
   "metadata": {},
   "outputs": [
    {
     "name": "stderr",
     "output_type": "stream",
     "text": [
      "C:\\Users\\User\\AppData\\Local\\Temp\\ipykernel_9340\\3154801521.py:1: SettingWithCopyWarning: \n",
      "A value is trying to be set on a copy of a slice from a DataFrame\n",
      "\n",
      "See the caveats in the documentation: https://pandas.pydata.org/pandas-docs/stable/user_guide/indexing.html#returning-a-view-versus-a-copy\n",
      "  mental_disorders_data.rename(functions.to_snake_case, axis = 'columns', inplace = True)\n"
     ]
    }
   ],
   "source": [
    "mental_disorders_data.rename(functions.to_snake_case, axis = 'columns', inplace = True)"
   ]
  },
  {
   "cell_type": "code",
   "execution_count": 10,
   "id": "510c8c2c-7378-49e4-85e8-930480bb6bc2",
   "metadata": {},
   "outputs": [
    {
     "data": {
      "text/html": [
       "<div>\n",
       "<style scoped>\n",
       "    .dataframe tbody tr th:only-of-type {\n",
       "        vertical-align: middle;\n",
       "    }\n",
       "\n",
       "    .dataframe tbody tr th {\n",
       "        vertical-align: top;\n",
       "    }\n",
       "\n",
       "    .dataframe thead th {\n",
       "        text-align: right;\n",
       "    }\n",
       "</style>\n",
       "<table border=\"1\" class=\"dataframe\">\n",
       "  <thead>\n",
       "    <tr style=\"text-align: right;\">\n",
       "      <th></th>\n",
       "      <th>location</th>\n",
       "      <th>year</th>\n",
       "      <th>age</th>\n",
       "      <th>sex</th>\n",
       "      <th>cause_of_death_or_injury</th>\n",
       "      <th>measure</th>\n",
       "      <th>value</th>\n",
       "      <th>lower_bound</th>\n",
       "      <th>upper_bound</th>\n",
       "    </tr>\n",
       "  </thead>\n",
       "  <tbody>\n",
       "    <tr>\n",
       "      <th>0</th>\n",
       "      <td>Afghanistan</td>\n",
       "      <td>2021.0</td>\n",
       "      <td>Age-standardized</td>\n",
       "      <td>Both</td>\n",
       "      <td>Mental disorders</td>\n",
       "      <td>Prevalent cases per 100,000</td>\n",
       "      <td>17904.245131</td>\n",
       "      <td>15492.673337</td>\n",
       "      <td>20696.401183</td>\n",
       "    </tr>\n",
       "    <tr>\n",
       "      <th>1</th>\n",
       "      <td>Angola</td>\n",
       "      <td>2021.0</td>\n",
       "      <td>Age-standardized</td>\n",
       "      <td>Both</td>\n",
       "      <td>Mental disorders</td>\n",
       "      <td>Prevalent cases per 100,000</td>\n",
       "      <td>14517.480604</td>\n",
       "      <td>12748.492025</td>\n",
       "      <td>16638.169306</td>\n",
       "    </tr>\n",
       "    <tr>\n",
       "      <th>2</th>\n",
       "      <td>Albania</td>\n",
       "      <td>2021.0</td>\n",
       "      <td>Age-standardized</td>\n",
       "      <td>Both</td>\n",
       "      <td>Mental disorders</td>\n",
       "      <td>Prevalent cases per 100,000</td>\n",
       "      <td>12239.869258</td>\n",
       "      <td>10809.258625</td>\n",
       "      <td>13998.851842</td>\n",
       "    </tr>\n",
       "  </tbody>\n",
       "</table>\n",
       "</div>"
      ],
      "text/plain": [
       "      location    year               age   sex cause_of_death_or_injury  \\\n",
       "0  Afghanistan  2021.0  Age-standardized  Both         Mental disorders   \n",
       "1       Angola  2021.0  Age-standardized  Both         Mental disorders   \n",
       "2      Albania  2021.0  Age-standardized  Both         Mental disorders   \n",
       "\n",
       "                       measure         value   lower_bound   upper_bound  \n",
       "0  Prevalent cases per 100,000  17904.245131  15492.673337  20696.401183  \n",
       "1  Prevalent cases per 100,000  14517.480604  12748.492025  16638.169306  \n",
       "2  Prevalent cases per 100,000  12239.869258  10809.258625  13998.851842  "
      ]
     },
     "execution_count": 10,
     "metadata": {},
     "output_type": "execute_result"
    }
   ],
   "source": [
    "mental_disorders_data.head(3)"
   ]
  },
  {
   "cell_type": "markdown",
   "id": "48cff4c8-119b-45ce-bae3-f8b7285c2feb",
   "metadata": {},
   "source": [
    "### Feature selection"
   ]
  },
  {
   "cell_type": "code",
   "execution_count": 11,
   "id": "05fb6c0b-8be6-45ec-8f63-911d7872bebe",
   "metadata": {},
   "outputs": [
    {
     "data": {
      "text/plain": [
       "location                    204\n",
       "year                          1\n",
       "age                           1\n",
       "sex                           1\n",
       "cause_of_death_or_injury      1\n",
       "measure                       1\n",
       "value                       204\n",
       "lower_bound                 204\n",
       "upper_bound                 204\n",
       "dtype: int64"
      ]
     },
     "execution_count": 11,
     "metadata": {},
     "output_type": "execute_result"
    }
   ],
   "source": [
    "mental_disorders_data.nunique()"
   ]
  },
  {
   "cell_type": "markdown",
   "id": "d2115299-cdf1-4f7f-b583-d66493faf795",
   "metadata": {},
   "source": [
    "All observations are age standardized for both sexes for 2021. The values of mental disorders are measured by a common unit. So each of the columns 'year', 'age', 'sex', 'cause_of_death_and_injury' and 'measure' has single unique value for all observations. From them rest, the features of interest of this study are 'country' and 'values'.\n",
    "I will extract the in a new dataframe named 'mental_disorders_by_country'. The 'location' column will be renamed to 'country' for consistency with the other dataset. The 'value' column also will be renamed to 'mental_disorders_per_100k' for better description of the feature. Its values will be rounded for better readability."
   ]
  },
  {
   "cell_type": "code",
   "execution_count": 12,
   "id": "750f329a-b25f-49ad-9dd6-0aef10c03fef",
   "metadata": {},
   "outputs": [],
   "source": [
    "mental_disorders_by_county = mental_disorders_data[['location', 'value']]"
   ]
  },
  {
   "cell_type": "code",
   "execution_count": 13,
   "id": "d54ffd3c-fbe6-47df-b706-1fd69223a52d",
   "metadata": {},
   "outputs": [],
   "source": [
    "mental_disorders_by_county = mental_disorders_by_county.rename(columns = {'location': 'country', 'value': 'mental_disorders_per_100k'})"
   ]
  },
  {
   "cell_type": "code",
   "execution_count": 14,
   "id": "5924b1c0-8ca5-4b2e-99bb-7fd30a3e8382",
   "metadata": {},
   "outputs": [],
   "source": [
    "mental_disorders_by_county['mental_disorders_per_100k'] = mental_disorders_by_county['mental_disorders_per_100k'].round(0)"
   ]
  },
  {
   "cell_type": "code",
   "execution_count": 15,
   "id": "7318c976-4683-4ca0-95ff-98ab5e6e4f77",
   "metadata": {},
   "outputs": [
    {
     "data": {
      "text/html": [
       "<div>\n",
       "<style scoped>\n",
       "    .dataframe tbody tr th:only-of-type {\n",
       "        vertical-align: middle;\n",
       "    }\n",
       "\n",
       "    .dataframe tbody tr th {\n",
       "        vertical-align: top;\n",
       "    }\n",
       "\n",
       "    .dataframe thead th {\n",
       "        text-align: right;\n",
       "    }\n",
       "</style>\n",
       "<table border=\"1\" class=\"dataframe\">\n",
       "  <thead>\n",
       "    <tr style=\"text-align: right;\">\n",
       "      <th></th>\n",
       "      <th>country</th>\n",
       "      <th>mental_disorders_per_100k</th>\n",
       "    </tr>\n",
       "  </thead>\n",
       "  <tbody>\n",
       "    <tr>\n",
       "      <th>0</th>\n",
       "      <td>Afghanistan</td>\n",
       "      <td>17904.0</td>\n",
       "    </tr>\n",
       "    <tr>\n",
       "      <th>1</th>\n",
       "      <td>Angola</td>\n",
       "      <td>14517.0</td>\n",
       "    </tr>\n",
       "    <tr>\n",
       "      <th>2</th>\n",
       "      <td>Albania</td>\n",
       "      <td>12240.0</td>\n",
       "    </tr>\n",
       "  </tbody>\n",
       "</table>\n",
       "</div>"
      ],
      "text/plain": [
       "       country  mental_disorders_per_100k\n",
       "0  Afghanistan                    17904.0\n",
       "1       Angola                    14517.0\n",
       "2      Albania                    12240.0"
      ]
     },
     "execution_count": 15,
     "metadata": {},
     "output_type": "execute_result"
    }
   ],
   "source": [
    "mental_disorders_by_county.head(3)"
   ]
  },
  {
   "cell_type": "code",
   "execution_count": 16,
   "id": "f15001d4-24fa-4bc7-8f30-de3ebcd414eb",
   "metadata": {},
   "outputs": [
    {
     "name": "stdout",
     "output_type": "stream",
     "text": [
      "<class 'pandas.core.frame.DataFrame'>\n",
      "RangeIndex: 204 entries, 0 to 203\n",
      "Data columns (total 2 columns):\n",
      " #   Column                     Non-Null Count  Dtype  \n",
      "---  ------                     --------------  -----  \n",
      " 0   country                    204 non-null    object \n",
      " 1   mental_disorders_per_100k  204 non-null    float64\n",
      "dtypes: float64(1), object(1)\n",
      "memory usage: 3.3+ KB\n"
     ]
    }
   ],
   "source": [
    "mental_disorders_by_county.info()"
   ]
  },
  {
   "cell_type": "markdown",
   "id": "2f946d77-3187-44fe-9126-7aa2b1804e6c",
   "metadata": {},
   "source": [
    "The dtypes of resulted features are appropriate so no need to transform them."
   ]
  },
  {
   "cell_type": "markdown",
   "id": "b1accd4a-9440-455c-b9eb-0845aae3472b",
   "metadata": {},
   "source": [
    "### Saving transformed data\n",
    "The resulted dataset is saved for further use in this study."
   ]
  },
  {
   "cell_type": "code",
   "execution_count": 17,
   "id": "4863647f-8a5b-4b0d-a0ba-4a1e9554e47a",
   "metadata": {},
   "outputs": [],
   "source": [
    "mental_disorders_by_county.to_csv('data/mental_disorder_by_country.csv', index=False)"
   ]
  },
  {
   "cell_type": "markdown",
   "id": "dad27934-78b0-44a6-a44c-18fca80bee53",
   "metadata": {},
   "source": [
    "<a id='references'></a>"
   ]
  },
  {
   "cell_type": "markdown",
   "id": "c7f5cd4b-2090-4f28-b286-9ec6238bb4f0",
   "metadata": {},
   "source": [
    "### References\n",
    "1. [Age standardization - ourworldindata.org](https://ourworldindata.org/age-standardization)\n",
    "2. [Guide](../data/guiding_questions.pdf)"
   ]
  },
  {
   "cell_type": "code",
   "execution_count": null,
   "id": "1f59416e-714e-4c86-81fa-09804ff3f1bc",
   "metadata": {},
   "outputs": [],
   "source": []
  }
 ],
 "metadata": {
  "kernelspec": {
   "display_name": "Python 3 (ipykernel)",
   "language": "python",
   "name": "python3"
  },
  "language_info": {
   "codemirror_mode": {
    "name": "ipython",
    "version": 3
   },
   "file_extension": ".py",
   "mimetype": "text/x-python",
   "name": "python",
   "nbconvert_exporter": "python",
   "pygments_lexer": "ipython3",
   "version": "3.11.9"
  }
 },
 "nbformat": 4,
 "nbformat_minor": 5
}
