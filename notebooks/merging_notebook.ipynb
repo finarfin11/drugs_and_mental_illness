{
 "cells": [
  {
   "cell_type": "code",
   "execution_count": 1,
   "id": "ec8696af-10d7-45f3-bcc3-52fd8a3ce824",
   "metadata": {},
   "outputs": [
    {
     "name": "stdout",
     "output_type": "stream",
     "text": [
      "D:\\SoftUni\\Data Science\\Project\n"
     ]
    }
   ],
   "source": [
    "%cd .."
   ]
  },
  {
   "cell_type": "markdown",
   "id": "514fe70a-9bf3-4d62-81dd-3009c1d0f74e",
   "metadata": {},
   "source": [
    "### Imports"
   ]
  },
  {
   "cell_type": "code",
   "execution_count": 2,
   "id": "0fcb3acc-62b1-4320-9ca6-9179317cea33",
   "metadata": {},
   "outputs": [],
   "source": [
    "import pandas as pd\n",
    "import numpy as np\n",
    "from src import functions"
   ]
  },
  {
   "cell_type": "markdown",
   "id": "55aaed16-c81a-4d0a-94a3-504d2f46d90c",
   "metadata": {},
   "source": [
    "### Reading datasets"
   ]
  },
  {
   "cell_type": "code",
   "execution_count": 3,
   "id": "3af1d211-7677-4d6a-9a30-623363172537",
   "metadata": {},
   "outputs": [],
   "source": [
    "drugs_distribution_data = pd.read_csv('data/drugs_distribution_by_country.csv')"
   ]
  },
  {
   "cell_type": "code",
   "execution_count": 4,
   "id": "f42aee7f-04dc-4622-9a6c-63b9e532bbd6",
   "metadata": {},
   "outputs": [
    {
     "data": {
      "text/html": [
       "<div>\n",
       "<style scoped>\n",
       "    .dataframe tbody tr th:only-of-type {\n",
       "        vertical-align: middle;\n",
       "    }\n",
       "\n",
       "    .dataframe tbody tr th {\n",
       "        vertical-align: top;\n",
       "    }\n",
       "\n",
       "    .dataframe thead th {\n",
       "        text-align: right;\n",
       "    }\n",
       "</style>\n",
       "<table border=\"1\" class=\"dataframe\">\n",
       "  <thead>\n",
       "    <tr style=\"text-align: right;\">\n",
       "      <th></th>\n",
       "      <th>country</th>\n",
       "      <th>heroin_trade</th>\n",
       "      <th>cocaine_trade</th>\n",
       "      <th>cannabis_trade</th>\n",
       "      <th>synthetic_drug_trade</th>\n",
       "    </tr>\n",
       "  </thead>\n",
       "  <tbody>\n",
       "    <tr>\n",
       "      <th>0</th>\n",
       "      <td>Turkey</td>\n",
       "      <td>8.0</td>\n",
       "      <td>4.0</td>\n",
       "      <td>5.0</td>\n",
       "      <td>5.5</td>\n",
       "    </tr>\n",
       "    <tr>\n",
       "      <th>1</th>\n",
       "      <td>Cabo Verde</td>\n",
       "      <td>4.0</td>\n",
       "      <td>7.0</td>\n",
       "      <td>5.0</td>\n",
       "      <td>4.5</td>\n",
       "    </tr>\n",
       "    <tr>\n",
       "      <th>2</th>\n",
       "      <td>South Africa</td>\n",
       "      <td>7.5</td>\n",
       "      <td>5.5</td>\n",
       "      <td>3.5</td>\n",
       "      <td>8.5</td>\n",
       "    </tr>\n",
       "    <tr>\n",
       "      <th>3</th>\n",
       "      <td>Colombia</td>\n",
       "      <td>5.0</td>\n",
       "      <td>9.5</td>\n",
       "      <td>8.0</td>\n",
       "      <td>5.0</td>\n",
       "    </tr>\n",
       "    <tr>\n",
       "      <th>4</th>\n",
       "      <td>Peru</td>\n",
       "      <td>3.5</td>\n",
       "      <td>9.0</td>\n",
       "      <td>5.5</td>\n",
       "      <td>4.0</td>\n",
       "    </tr>\n",
       "    <tr>\n",
       "      <th>...</th>\n",
       "      <td>...</td>\n",
       "      <td>...</td>\n",
       "      <td>...</td>\n",
       "      <td>...</td>\n",
       "      <td>...</td>\n",
       "    </tr>\n",
       "    <tr>\n",
       "      <th>188</th>\n",
       "      <td>Jamaica</td>\n",
       "      <td>3.0</td>\n",
       "      <td>6.0</td>\n",
       "      <td>9.0</td>\n",
       "      <td>3.0</td>\n",
       "    </tr>\n",
       "    <tr>\n",
       "      <th>189</th>\n",
       "      <td>St. Vincent and the Grenadines</td>\n",
       "      <td>1.0</td>\n",
       "      <td>7.5</td>\n",
       "      <td>7.5</td>\n",
       "      <td>1.0</td>\n",
       "    </tr>\n",
       "    <tr>\n",
       "      <th>190</th>\n",
       "      <td>Slovenia</td>\n",
       "      <td>4.0</td>\n",
       "      <td>4.5</td>\n",
       "      <td>5.0</td>\n",
       "      <td>5.5</td>\n",
       "    </tr>\n",
       "    <tr>\n",
       "      <th>191</th>\n",
       "      <td>St. Lucia</td>\n",
       "      <td>1.0</td>\n",
       "      <td>7.0</td>\n",
       "      <td>7.0</td>\n",
       "      <td>1.0</td>\n",
       "    </tr>\n",
       "    <tr>\n",
       "      <th>192</th>\n",
       "      <td>Dominica</td>\n",
       "      <td>1.0</td>\n",
       "      <td>6.0</td>\n",
       "      <td>5.0</td>\n",
       "      <td>2.5</td>\n",
       "    </tr>\n",
       "  </tbody>\n",
       "</table>\n",
       "<p>193 rows × 5 columns</p>\n",
       "</div>"
      ],
      "text/plain": [
       "                            country  heroin_trade  cocaine_trade  \\\n",
       "0                            Turkey           8.0            4.0   \n",
       "1                        Cabo Verde           4.0            7.0   \n",
       "2                      South Africa           7.5            5.5   \n",
       "3                          Colombia           5.0            9.5   \n",
       "4                              Peru           3.5            9.0   \n",
       "..                              ...           ...            ...   \n",
       "188                         Jamaica           3.0            6.0   \n",
       "189  St. Vincent and the Grenadines           1.0            7.5   \n",
       "190                        Slovenia           4.0            4.5   \n",
       "191                       St. Lucia           1.0            7.0   \n",
       "192                        Dominica           1.0            6.0   \n",
       "\n",
       "     cannabis_trade  synthetic_drug_trade  \n",
       "0               5.0                   5.5  \n",
       "1               5.0                   4.5  \n",
       "2               3.5                   8.5  \n",
       "3               8.0                   5.0  \n",
       "4               5.5                   4.0  \n",
       "..              ...                   ...  \n",
       "188             9.0                   3.0  \n",
       "189             7.5                   1.0  \n",
       "190             5.0                   5.5  \n",
       "191             7.0                   1.0  \n",
       "192             5.0                   2.5  \n",
       "\n",
       "[193 rows x 5 columns]"
      ]
     },
     "execution_count": 4,
     "metadata": {},
     "output_type": "execute_result"
    }
   ],
   "source": [
    "drugs_distribution_data"
   ]
  },
  {
   "cell_type": "code",
   "execution_count": 5,
   "id": "2b6dfe67-91b0-49d5-8ff8-c46d44b0ac75",
   "metadata": {},
   "outputs": [],
   "source": [
    "mental_disorders_data = pd.read_csv('data/mental_disorder_by_country.csv')"
   ]
  },
  {
   "cell_type": "code",
   "execution_count": 6,
   "id": "2cd9d4d9-4261-4b68-a7f5-3ce604c2f199",
   "metadata": {},
   "outputs": [
    {
     "data": {
      "text/html": [
       "<div>\n",
       "<style scoped>\n",
       "    .dataframe tbody tr th:only-of-type {\n",
       "        vertical-align: middle;\n",
       "    }\n",
       "\n",
       "    .dataframe tbody tr th {\n",
       "        vertical-align: top;\n",
       "    }\n",
       "\n",
       "    .dataframe thead th {\n",
       "        text-align: right;\n",
       "    }\n",
       "</style>\n",
       "<table border=\"1\" class=\"dataframe\">\n",
       "  <thead>\n",
       "    <tr style=\"text-align: right;\">\n",
       "      <th></th>\n",
       "      <th>country</th>\n",
       "      <th>mental_disorders_per_100k</th>\n",
       "    </tr>\n",
       "  </thead>\n",
       "  <tbody>\n",
       "    <tr>\n",
       "      <th>0</th>\n",
       "      <td>Afghanistan</td>\n",
       "      <td>17904.0</td>\n",
       "    </tr>\n",
       "    <tr>\n",
       "      <th>1</th>\n",
       "      <td>Angola</td>\n",
       "      <td>14517.0</td>\n",
       "    </tr>\n",
       "    <tr>\n",
       "      <th>2</th>\n",
       "      <td>Albania</td>\n",
       "      <td>12240.0</td>\n",
       "    </tr>\n",
       "    <tr>\n",
       "      <th>3</th>\n",
       "      <td>Andorra</td>\n",
       "      <td>16247.0</td>\n",
       "    </tr>\n",
       "    <tr>\n",
       "      <th>4</th>\n",
       "      <td>United Arab Emirates</td>\n",
       "      <td>13856.0</td>\n",
       "    </tr>\n",
       "    <tr>\n",
       "      <th>...</th>\n",
       "      <td>...</td>\n",
       "      <td>...</td>\n",
       "    </tr>\n",
       "    <tr>\n",
       "      <th>199</th>\n",
       "      <td>Zambia</td>\n",
       "      <td>13308.0</td>\n",
       "    </tr>\n",
       "    <tr>\n",
       "      <th>200</th>\n",
       "      <td>Zimbabwe</td>\n",
       "      <td>11882.0</td>\n",
       "    </tr>\n",
       "    <tr>\n",
       "      <th>201</th>\n",
       "      <td>Egypt</td>\n",
       "      <td>15361.0</td>\n",
       "    </tr>\n",
       "    <tr>\n",
       "      <th>202</th>\n",
       "      <td>Sudan</td>\n",
       "      <td>16525.0</td>\n",
       "    </tr>\n",
       "    <tr>\n",
       "      <th>203</th>\n",
       "      <td>China</td>\n",
       "      <td>11405.0</td>\n",
       "    </tr>\n",
       "  </tbody>\n",
       "</table>\n",
       "<p>204 rows × 2 columns</p>\n",
       "</div>"
      ],
      "text/plain": [
       "                  country  mental_disorders_per_100k\n",
       "0             Afghanistan                    17904.0\n",
       "1                  Angola                    14517.0\n",
       "2                 Albania                    12240.0\n",
       "3                 Andorra                    16247.0\n",
       "4    United Arab Emirates                    13856.0\n",
       "..                    ...                        ...\n",
       "199                Zambia                    13308.0\n",
       "200              Zimbabwe                    11882.0\n",
       "201                 Egypt                    15361.0\n",
       "202                 Sudan                    16525.0\n",
       "203                 China                    11405.0\n",
       "\n",
       "[204 rows x 2 columns]"
      ]
     },
     "execution_count": 6,
     "metadata": {},
     "output_type": "execute_result"
    }
   ],
   "source": [
    "mental_disorders_data"
   ]
  },
  {
   "cell_type": "markdown",
   "id": "5fe7dfca-cc98-4426-b253-a66da73d6b15",
   "metadata": {},
   "source": [
    "### Preprocessing 'country' column"
   ]
  },
  {
   "cell_type": "markdown",
   "id": "c2f3a841-f7ae-4d30-b446-ea613473817f",
   "metadata": {},
   "source": [
    "The goal is to merge the above dataframes by their common column - 'country'."
   ]
  },
  {
   "cell_type": "code",
   "execution_count": 7,
   "id": "4d485cbb-b742-4cae-ae43-c92d2365517c",
   "metadata": {},
   "outputs": [],
   "source": [
    "countries_in_drugs_data = np.sort(drugs_distribution_data['country'].unique())"
   ]
  },
  {
   "cell_type": "code",
   "execution_count": 8,
   "id": "d63d2d21-23d3-4243-8a77-2d5bb66364b3",
   "metadata": {},
   "outputs": [
    {
     "data": {
      "text/plain": [
       "193"
      ]
     },
     "execution_count": 8,
     "metadata": {},
     "output_type": "execute_result"
    }
   ],
   "source": [
    "len(countries_in_drugs_data)"
   ]
  },
  {
   "cell_type": "code",
   "execution_count": 9,
   "id": "705a7731-14cf-45ee-81db-202a12cb2816",
   "metadata": {},
   "outputs": [],
   "source": [
    "countrues_in_disorders_data = np.sort(mental_disorders_data['country'].unique())"
   ]
  },
  {
   "cell_type": "code",
   "execution_count": 10,
   "id": "eb027ac9-9bcf-4614-9aa6-9eb843e69a9e",
   "metadata": {},
   "outputs": [
    {
     "data": {
      "text/plain": [
       "204"
      ]
     },
     "execution_count": 10,
     "metadata": {},
     "output_type": "execute_result"
    }
   ],
   "source": [
    "len(countrues_in_disorders_data)"
   ]
  },
  {
   "cell_type": "markdown",
   "id": "18d51f99-89ec-4a36-a376-d03878235685",
   "metadata": {},
   "source": [
    "Countries in 'mental_disorders_data' are 11 more than in 'drugs_distribution_data'. \n",
    "My approach here will be to drop the rows in each dataset which are not present in the other. At the other hand there are some differences between the spelling of the same countries in the two datasets, which requires additional prepocessing."
   ]
  },
  {
   "cell_type": "code",
   "execution_count": 11,
   "id": "2c60ac29-17db-437a-8006-9c628f97ef01",
   "metadata": {},
   "outputs": [],
   "source": [
    "# Country names which are present in drugs dataset but not in the disorders dataset\n",
    "different_names_in_drugs = np.setdiff1d(countries_in_drugs_data, countrues_in_disorders_data)"
   ]
  },
  {
   "cell_type": "code",
   "execution_count": 12,
   "id": "4eae5d49-3d1c-4c44-a4ce-a59ffd9cf8a6",
   "metadata": {},
   "outputs": [
    {
     "data": {
      "text/plain": [
       "array(['Bolivia', 'Brunei', 'Congo, Dem. Rep.', 'Congo, Rep.',\n",
       "       'Czech Republic', 'Iran', 'Korea, DPR', 'Korea, Rep.', 'Laos',\n",
       "       'Liechtenstein', 'Moldova', 'Russia', 'St. Kitts and Nevis',\n",
       "       'St. Lucia', 'St. Vincent and the Grenadines', 'Syria', 'Tanzania',\n",
       "       'Turkey', 'United States', 'Venezuela', 'Vietnam'], dtype=object)"
      ]
     },
     "execution_count": 12,
     "metadata": {},
     "output_type": "execute_result"
    }
   ],
   "source": [
    "different_names_in_drugs"
   ]
  },
  {
   "cell_type": "code",
   "execution_count": 13,
   "id": "e93061be-fb64-46cb-b18f-d1cc7d0c744b",
   "metadata": {},
   "outputs": [
    {
     "data": {
      "text/plain": [
       "array(['American Samoa', 'Bermuda', 'Bolivia (Plurinational State of)',\n",
       "       'Brunei Darussalam', 'Congo', 'Cook Islands', 'Czechia',\n",
       "       \"Democratic People's Republic of Korea\",\n",
       "       'Democratic Republic of the Congo', 'Greenland', 'Guam',\n",
       "       'Iran (Islamic Republic of)', \"Lao People's Democratic Republic\",\n",
       "       'Niue', 'Northern Mariana Islands', 'Palestine', 'Puerto Rico',\n",
       "       'Republic of Korea', 'Republic of Moldova', 'Russian Federation',\n",
       "       'Saint Kitts and Nevis', 'Saint Lucia',\n",
       "       'Saint Vincent and the Grenadines', 'Syrian Arab Republic',\n",
       "       'Taiwan (Province of China)', 'Tokelau', 'Türkiye',\n",
       "       'United Republic of Tanzania', 'United States Virgin Islands',\n",
       "       'United States of America', 'Venezuela (Bolivarian Republic of)',\n",
       "       'Viet Nam'], dtype=object)"
      ]
     },
     "execution_count": 13,
     "metadata": {},
     "output_type": "execute_result"
    }
   ],
   "source": [
    "# Country names which are present in the disorders dataset but not in the drugs dataset\n",
    "np.setdiff1d(countrues_in_disorders_data, countries_in_drugs_data)"
   ]
  },
  {
   "cell_type": "markdown",
   "id": "e4446041-766f-4602-a6c5-af31784e4e2d",
   "metadata": {},
   "source": [
    "We can observe that data for Liechtenstein as a country is present only in drugs dataframe. Also there are several countries that are present only in mental disorders dataset. The merge process will 'clean' all of them from the resulting dataframe. The only remain for preprocessing countries will be these with different spelled names. A little manual work of comparing the above arrays is required in order to create an array which contains all different spelled country names in disordes dataset. Then it will be easy to equalize them to the corresponding countries in drugs dataframe and do the merge after."
   ]
  },
  {
   "cell_type": "code",
   "execution_count": 14,
   "id": "50b4b5e8-f1c5-42f5-bfd0-fd690905a343",
   "metadata": {},
   "outputs": [],
   "source": [
    "different_spelled_countries_in_disorders = np.array(['Bolivia (Plurinational State of)', 'Brunei Darussalam', 'Democratic Republic of the Congo', 'Congo', 'Czechia',\n",
    "                    'Iran (Islamic Republic of)', 'Democratic People\\'s Republic of Korea', 'Republic of Korea', 'Lao People\\'s Democratic Republic',\n",
    "                    'Republic of Moldova', 'Russian Federation','Saint Kitts and Nevis', 'Saint Lucia', 'Saint Vincent and the Grenadines',\n",
    "                    'Syrian Arab Republic', 'United Republic of Tanzania', 'Türkiye','United States of America', 'Venezuela (Bolivarian Republic of)', 'Viet Nam'])"
   ]
  },
  {
   "cell_type": "code",
   "execution_count": 15,
   "id": "9c63c187-3b86-4c00-b484-39b5fd827df5",
   "metadata": {},
   "outputs": [],
   "source": [
    "# Delete Liechtenstein in the array\n",
    "index = np.argwhere(different_names_in_drugs == 'Liechtenstein')\n",
    "different_names_in_drugs = np.delete(different_names_in_drugs, index)"
   ]
  },
  {
   "cell_type": "markdown",
   "id": "d889d4ff-5ef8-49f5-a006-e09a66843025",
   "metadata": {},
   "source": [
    "Now I can create a dictionary with key - value pairs corresponding to all different spelled countries in both dataframes."
   ]
  },
  {
   "cell_type": "code",
   "execution_count": 16,
   "id": "dcc42a37-e322-45aa-b54c-e4b7b0b1fbb7",
   "metadata": {},
   "outputs": [],
   "source": [
    "different_named_countries_dict = {k: v for k, v in zip(different_spelled_countries_in_disorders, different_names_in_drugs)}"
   ]
  },
  {
   "cell_type": "code",
   "execution_count": 17,
   "id": "9949c2f2-112c-45b0-bef8-6de8f9b51ee7",
   "metadata": {},
   "outputs": [
    {
     "data": {
      "text/plain": [
       "{'Bolivia (Plurinational State of)': 'Bolivia',\n",
       " 'Brunei Darussalam': 'Brunei',\n",
       " 'Democratic Republic of the Congo': 'Congo, Dem. Rep.',\n",
       " 'Congo': 'Congo, Rep.',\n",
       " 'Czechia': 'Czech Republic',\n",
       " 'Iran (Islamic Republic of)': 'Iran',\n",
       " \"Democratic People's Republic of Korea\": 'Korea, DPR',\n",
       " 'Republic of Korea': 'Korea, Rep.',\n",
       " \"Lao People's Democratic Republic\": 'Laos',\n",
       " 'Republic of Moldova': 'Moldova',\n",
       " 'Russian Federation': 'Russia',\n",
       " 'Saint Kitts and Nevis': 'St. Kitts and Nevis',\n",
       " 'Saint Lucia': 'St. Lucia',\n",
       " 'Saint Vincent and the Grenadines': 'St. Vincent and the Grenadines',\n",
       " 'Syrian Arab Republic': 'Syria',\n",
       " 'United Republic of Tanzania': 'Tanzania',\n",
       " 'Türkiye': 'Turkey',\n",
       " 'United States of America': 'United States',\n",
       " 'Venezuela (Bolivarian Republic of)': 'Venezuela',\n",
       " 'Viet Nam': 'Vietnam'}"
      ]
     },
     "execution_count": 17,
     "metadata": {},
     "output_type": "execute_result"
    }
   ],
   "source": [
    "different_named_countries_dict"
   ]
  },
  {
   "cell_type": "markdown",
   "id": "a670ae3c-11fb-4b96-94a0-7f230a0dd389",
   "metadata": {},
   "source": [
    "The dictionary is used to change the misspelled country names in mental_disorders_data dataframe."
   ]
  },
  {
   "cell_type": "code",
   "execution_count": 18,
   "id": "1a9f61ec-71dd-47c8-8f6a-fde22ee406db",
   "metadata": {
    "collapsed": true,
    "jupyter": {
     "outputs_hidden": true
    }
   },
   "outputs": [
    {
     "name": "stderr",
     "output_type": "stream",
     "text": [
      "D:\\SoftUni\\Data Science\\Project\\src\\functions.py:17: FutureWarning: A value is trying to be set on a copy of a DataFrame or Series through chained assignment using an inplace method.\n",
      "The behavior will change in pandas 3.0. This inplace method will never work because the intermediate object on which we are setting values always behaves as a copy.\n",
      "\n",
      "For example, when doing 'df[col].method(value, inplace=True)', try using 'df.method({col: value}, inplace=True)' or df[col] = df[col].method(value) instead, to perform the operation inplace on the original object.\n",
      "\n",
      "\n",
      "  df[col].replace(df[df[col] == key][col].values[0], value, inplace = True)\n"
     ]
    }
   ],
   "source": [
    "functions.rplace_col_values(different_named_countries_dict, mental_disorders_data, 'country')"
   ]
  },
  {
   "cell_type": "markdown",
   "id": "b91d75a4-6739-4e42-b8fa-50a1c038d13f",
   "metadata": {},
   "source": [
    "### Merging"
   ]
  },
  {
   "cell_type": "markdown",
   "id": "ad6e5090-0dab-45f7-8513-eea35548b328",
   "metadata": {},
   "source": [
    "Now I can merge the data from both dataframes to get a resulted dataframe with 192 observations(number of countries in drugs data - 1 for Liechtenstein) and 6 features."
   ]
  },
  {
   "cell_type": "code",
   "execution_count": 19,
   "id": "ff37a54f-b968-43a8-8f72-778b604c611c",
   "metadata": {},
   "outputs": [],
   "source": [
    "drugs_disorders_data = drugs_distribution_data.merge(mental_disorders_data, on=\"country\", how = 'inner')"
   ]
  },
  {
   "cell_type": "code",
   "execution_count": 20,
   "id": "e3a11909-084a-4102-86b6-3e4112f734e9",
   "metadata": {},
   "outputs": [
    {
     "name": "stdout",
     "output_type": "stream",
     "text": [
      "<class 'pandas.core.frame.DataFrame'>\n",
      "RangeIndex: 192 entries, 0 to 191\n",
      "Data columns (total 6 columns):\n",
      " #   Column                     Non-Null Count  Dtype  \n",
      "---  ------                     --------------  -----  \n",
      " 0   country                    192 non-null    object \n",
      " 1   heroin_trade               192 non-null    float64\n",
      " 2   cocaine_trade              192 non-null    float64\n",
      " 3   cannabis_trade             192 non-null    float64\n",
      " 4   synthetic_drug_trade       192 non-null    float64\n",
      " 5   mental_disorders_per_100k  192 non-null    float64\n",
      "dtypes: float64(5), object(1)\n",
      "memory usage: 9.1+ KB\n"
     ]
    }
   ],
   "source": [
    "drugs_disorders_data.info()"
   ]
  },
  {
   "cell_type": "code",
   "execution_count": 21,
   "id": "ad7fce01-cc20-4d7c-95fd-3c40e8a0a902",
   "metadata": {},
   "outputs": [],
   "source": [
    "# Changing the order of columns so 'mental_disorders_per_100k' to be next to 'country'\n",
    "drugs_disorders_data = drugs_disorders_data[['country', 'mental_disorders_per_100k', 'heroin_trade', 'cocaine_trade', 'cannabis_trade', 'synthetic_drug_trade']]"
   ]
  },
  {
   "cell_type": "code",
   "execution_count": 22,
   "id": "bd87c490-2df1-4039-91c7-6ab758c1c1e7",
   "metadata": {},
   "outputs": [
    {
     "data": {
      "text/html": [
       "<div>\n",
       "<style scoped>\n",
       "    .dataframe tbody tr th:only-of-type {\n",
       "        vertical-align: middle;\n",
       "    }\n",
       "\n",
       "    .dataframe tbody tr th {\n",
       "        vertical-align: top;\n",
       "    }\n",
       "\n",
       "    .dataframe thead th {\n",
       "        text-align: right;\n",
       "    }\n",
       "</style>\n",
       "<table border=\"1\" class=\"dataframe\">\n",
       "  <thead>\n",
       "    <tr style=\"text-align: right;\">\n",
       "      <th></th>\n",
       "      <th>country</th>\n",
       "      <th>mental_disorders_per_100k</th>\n",
       "      <th>heroin_trade</th>\n",
       "      <th>cocaine_trade</th>\n",
       "      <th>cannabis_trade</th>\n",
       "      <th>synthetic_drug_trade</th>\n",
       "    </tr>\n",
       "  </thead>\n",
       "  <tbody>\n",
       "    <tr>\n",
       "      <th>0</th>\n",
       "      <td>Turkey</td>\n",
       "      <td>15281.0</td>\n",
       "      <td>8.0</td>\n",
       "      <td>4.0</td>\n",
       "      <td>5.0</td>\n",
       "      <td>5.5</td>\n",
       "    </tr>\n",
       "    <tr>\n",
       "      <th>1</th>\n",
       "      <td>Cabo Verde</td>\n",
       "      <td>13165.0</td>\n",
       "      <td>4.0</td>\n",
       "      <td>7.0</td>\n",
       "      <td>5.0</td>\n",
       "      <td>4.5</td>\n",
       "    </tr>\n",
       "    <tr>\n",
       "      <th>2</th>\n",
       "      <td>South Africa</td>\n",
       "      <td>13825.0</td>\n",
       "      <td>7.5</td>\n",
       "      <td>5.5</td>\n",
       "      <td>3.5</td>\n",
       "      <td>8.5</td>\n",
       "    </tr>\n",
       "    <tr>\n",
       "      <th>3</th>\n",
       "      <td>Colombia</td>\n",
       "      <td>13095.0</td>\n",
       "      <td>5.0</td>\n",
       "      <td>9.5</td>\n",
       "      <td>8.0</td>\n",
       "      <td>5.0</td>\n",
       "    </tr>\n",
       "    <tr>\n",
       "      <th>4</th>\n",
       "      <td>Peru</td>\n",
       "      <td>15486.0</td>\n",
       "      <td>3.5</td>\n",
       "      <td>9.0</td>\n",
       "      <td>5.5</td>\n",
       "      <td>4.0</td>\n",
       "    </tr>\n",
       "    <tr>\n",
       "      <th>...</th>\n",
       "      <td>...</td>\n",
       "      <td>...</td>\n",
       "      <td>...</td>\n",
       "      <td>...</td>\n",
       "      <td>...</td>\n",
       "      <td>...</td>\n",
       "    </tr>\n",
       "    <tr>\n",
       "      <th>187</th>\n",
       "      <td>Jamaica</td>\n",
       "      <td>15087.0</td>\n",
       "      <td>3.0</td>\n",
       "      <td>6.0</td>\n",
       "      <td>9.0</td>\n",
       "      <td>3.0</td>\n",
       "    </tr>\n",
       "    <tr>\n",
       "      <th>188</th>\n",
       "      <td>St. Vincent and the Grenadines</td>\n",
       "      <td>15380.0</td>\n",
       "      <td>1.0</td>\n",
       "      <td>7.5</td>\n",
       "      <td>7.5</td>\n",
       "      <td>1.0</td>\n",
       "    </tr>\n",
       "    <tr>\n",
       "      <th>189</th>\n",
       "      <td>Slovenia</td>\n",
       "      <td>12323.0</td>\n",
       "      <td>4.0</td>\n",
       "      <td>4.5</td>\n",
       "      <td>5.0</td>\n",
       "      <td>5.5</td>\n",
       "    </tr>\n",
       "    <tr>\n",
       "      <th>190</th>\n",
       "      <td>St. Lucia</td>\n",
       "      <td>15669.0</td>\n",
       "      <td>1.0</td>\n",
       "      <td>7.0</td>\n",
       "      <td>7.0</td>\n",
       "      <td>1.0</td>\n",
       "    </tr>\n",
       "    <tr>\n",
       "      <th>191</th>\n",
       "      <td>Dominica</td>\n",
       "      <td>15116.0</td>\n",
       "      <td>1.0</td>\n",
       "      <td>6.0</td>\n",
       "      <td>5.0</td>\n",
       "      <td>2.5</td>\n",
       "    </tr>\n",
       "  </tbody>\n",
       "</table>\n",
       "<p>192 rows × 6 columns</p>\n",
       "</div>"
      ],
      "text/plain": [
       "                            country  mental_disorders_per_100k  heroin_trade  \\\n",
       "0                            Turkey                    15281.0           8.0   \n",
       "1                        Cabo Verde                    13165.0           4.0   \n",
       "2                      South Africa                    13825.0           7.5   \n",
       "3                          Colombia                    13095.0           5.0   \n",
       "4                              Peru                    15486.0           3.5   \n",
       "..                              ...                        ...           ...   \n",
       "187                         Jamaica                    15087.0           3.0   \n",
       "188  St. Vincent and the Grenadines                    15380.0           1.0   \n",
       "189                        Slovenia                    12323.0           4.0   \n",
       "190                       St. Lucia                    15669.0           1.0   \n",
       "191                        Dominica                    15116.0           1.0   \n",
       "\n",
       "     cocaine_trade  cannabis_trade  synthetic_drug_trade  \n",
       "0              4.0             5.0                   5.5  \n",
       "1              7.0             5.0                   4.5  \n",
       "2              5.5             3.5                   8.5  \n",
       "3              9.5             8.0                   5.0  \n",
       "4              9.0             5.5                   4.0  \n",
       "..             ...             ...                   ...  \n",
       "187            6.0             9.0                   3.0  \n",
       "188            7.5             7.5                   1.0  \n",
       "189            4.5             5.0                   5.5  \n",
       "190            7.0             7.0                   1.0  \n",
       "191            6.0             5.0                   2.5  \n",
       "\n",
       "[192 rows x 6 columns]"
      ]
     },
     "execution_count": 22,
     "metadata": {},
     "output_type": "execute_result"
    }
   ],
   "source": [
    "drugs_disorders_data"
   ]
  },
  {
   "cell_type": "markdown",
   "id": "a2103cc1-87f3-4580-90e8-ca0d09f99a14",
   "metadata": {},
   "source": [
    "### Saving resulted dataset"
   ]
  },
  {
   "cell_type": "code",
   "execution_count": 23,
   "id": "4532f72c-3b96-48d4-ae5d-8c23b30e6e0c",
   "metadata": {},
   "outputs": [],
   "source": [
    "drugs_disorders_data.to_csv('data/drugs_disorders_by_country.csv', index=False)"
   ]
  },
  {
   "cell_type": "code",
   "execution_count": null,
   "id": "60a419a5-20aa-41bf-b3c7-99a309a42df7",
   "metadata": {},
   "outputs": [],
   "source": []
  }
 ],
 "metadata": {
  "kernelspec": {
   "display_name": "Python 3 (ipykernel)",
   "language": "python",
   "name": "python3"
  },
  "language_info": {
   "codemirror_mode": {
    "name": "ipython",
    "version": 3
   },
   "file_extension": ".py",
   "mimetype": "text/x-python",
   "name": "python",
   "nbconvert_exporter": "python",
   "pygments_lexer": "ipython3",
   "version": "3.11.9"
  }
 },
 "nbformat": 4,
 "nbformat_minor": 5
}
