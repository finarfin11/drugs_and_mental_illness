{
 "cells": [
  {
   "cell_type": "code",
   "execution_count": 1,
   "id": "77c6490f-9224-4566-b899-5fcb1cf0238f",
   "metadata": {},
   "outputs": [
    {
     "name": "stdout",
     "output_type": "stream",
     "text": [
      "D:\\SoftUni\\Data Science\\Project\n"
     ]
    }
   ],
   "source": [
    "%cd .."
   ]
  },
  {
   "cell_type": "markdown",
   "id": "77e19533-1a46-4451-b5a6-5cf61244c923",
   "metadata": {},
   "source": [
    "# Mental disorders and drugs distribution"
   ]
  },
  {
   "cell_type": "markdown",
   "id": "47b81ab6-1709-4c02-8847-926df41e133c",
   "metadata": {},
   "source": [
    "## Exploratory Data Analysis of data containing information about the worldwide drug trade and the mental ilnesses"
   ]
  },
  {
   "attachments": {},
   "cell_type": "markdown",
   "id": "4fdb49a7-d9cb-4e3c-b2fc-a23614b09128",
   "metadata": {},
   "source": [
    "### Backgroun information\n",
    "\n",
    "Mental illnesses are among the most common health conditions worldwide. According to World Health Organization(WHO), in 2019, 1 in every 8 people, or 970 million people around the world live with a mental disorder. There are many different types of mental disorders. [[1]](#references) One of the most comon mental health conditions are anxiety disorders, schizophrenia, bipolar disorder, depression, post - traumatic stress disorder, eating disorders, obsessive - compulsive disorder and substance use disorders(SUDs).\n",
    "\n",
    "SUD, also called drug addiction, are highly prevalent worldwide and are among the leading causes of morbidity and mortality. SUDs are also highly comorbid with other mental health disorders. This comorbidity can complicate treatment course and recovery from both the SUD and other mental health disorders. [[2]](#references) Substance use can lead to changes in some of the same brain areas that are disrupted in other mental disorders, such as schizophrenia, anxiety, mood, or impulse - control disorders. Drug use that precedes the first symptoms of a mental illness may produce changes in brain structure and function that kindle an underlying predisposition to develop that mental illness. [[3]](#references) According to National Drug Intelligence Center(now DEA), some common serious mental disorders associated with chronic drug abuse include schizophrenia, bipolar disorder, manic depression, attention deficit hyperactivity disorder (ADHD), generalized anxiety disorder, obsessive-compulsive disorder, post - traumatic stress disorder, panic disorder, and antisocial personality disorder. [[4]](#references)\n",
    "\n",
    "At the other hand, illicit drugs production, distribution and sale are big businesses. They are one of the main profit - generating activities of organised crime and are estimated to represent around one - fifth of global crime proceeds. [[5]](#references) Such an activities fostering extreme violence and corruption, while greatly endangers public health and safety. Some of the most commonly abused illicit drugs and are: marijuana, cocaine, stimulants(such as amphetamine), heroin, hallucinogens and methamphetamine."
   ]
  },
  {
   "cell_type": "markdown",
   "id": "7a9df688-0cc6-4b1d-89ff-77649d653c11",
   "metadata": {},
   "source": [
    "### Project theme\n",
    "\n",
    "According to the information presented above, one may ask **is there a relationship between the illicit drug market and the development of mental health issues**. That is the **question** of this study.\n",
    "\n",
    "My **hypothesis** is that **the production, distribution and sales of illicit drugs contribute to the availability and use of these substances, which in turn can lead to mental health issues among people who use them**. "
   ]
  },
  {
   "cell_type": "markdown",
   "id": "db44dd79-727b-4f63-a7e3-ed6b878d80c0",
   "metadata": {},
   "source": [
    "### Research process\n",
    "The steps I follow in the research process are:\n",
    "1. Learning information about the related topic\n",
    "2. Gathering relevant data from different sources\n",
    "3. Initial exploring, cleaning and preprocessing(for analysis purposes) the data\n",
    "4. Мerging the data into one common dataset\n",
    "5. Analysing the resulted dataset\n",
    "6. Drawing a conclusion for the analysis\n",
    "\n",
    "The project is created with JupyterLab, Python and tools for data manipulation and visualization.\n",
    "The work is organised in four notebooks(located in 'notebooks' folder). Two of them are used for data cleaning and preprocessing and one for the merging process. These side notebooks are used to keep the main one, where  the analysis is in, clean. Original and resuted datasets are provided in 'data' folder. The source code is separated in functions.py file in the 'src' folder."
   ]
  },
  {
   "cell_type": "markdown",
   "id": "5d7d5f4f-3d45-4e03-a18a-e4f0514eb734",
   "metadata": {},
   "source": [
    "### Data sources\n",
    "The data is gathered from two sources: \n",
    "1. Institute for Health Metrics and Evaluation provides information about mental disorders rate around the world. [[6]](#references)\n",
    "   The dataset contains information about prevalent cases of mental disorders for 2021 globally. It is loaded, explored and cleaned in disorders_preprocess_notebook.\n",
    "   \n",
    "2. Global Organized Crime Index for 2021(provided by Global Initiative Against Transnational Organized Crime). [[7]](#references) This dataset provides information about levels of organized crime in 193 countries across the world. Among other data, this index covers the production, distribution, sale and consumption of heroin, cocaine, cannabis and synthetic drugs. The dataset is loaded, explored and cleaned in drugs_preprocess_notebook.\n",
    "\n",
    "Feature selection, merging and feature engineering are used to obtain the final 'main' dataset. Тhe transformations before merging and the process itself are done in merging_notebook."
   ]
  },
  {
   "cell_type": "markdown",
   "id": "7edf5e62-f418-41b9-9422-086f13ea7853",
   "metadata": {},
   "source": [
    "### EDA"
   ]
  },
  {
   "cell_type": "markdown",
   "id": "f1ca9d44-37af-4a2d-a847-8287fcab0e66",
   "metadata": {},
   "source": [
    "<a id='references'></a>"
   ]
  },
  {
   "cell_type": "markdown",
   "id": "60a31c47-e7c2-4208-adff-ddb8f0daa421",
   "metadata": {},
   "source": [
    "### References\n",
    "1. [Mental disorders - WHO](https://www.who.int/news-room/fact-sheets/detail/mental-disorders)\n",
    "2. [Substance use disorders - National library of medicine](https://www.ncbi.nlm.nih.gov/pmc/articles/PMC8324330/#R1)\n",
    "3. [Comorbidity between SUDs and mental illnesses - Natioanl institute of drug abuse](https://nida.nih.gov/publications/research-reports/common-comorbidities-substance-use-disorders/why-there-comorbidity-between-substance-use-disorders-mental-illnesses)\n",
    "4. [Drug Abuse and Mental Illness - National Drug Intelligence Center](https://www.justice.gov/archive/ndic/pubs7/7343/index.htm#What)\n",
    "5. [Drug markets - EU Drugs Agency](https://www.euda.europa.eu/publications/eu-drug-markets_en)\n",
    "6. [Institute for Health Metrics and Evaluation ](https://www.healthdata.org/)\n",
    "7. [Global Organized Crime Index](https://ocindex.net/)"
   ]
  },
  {
   "cell_type": "code",
   "execution_count": null,
   "id": "4018d070-d15e-4c9b-8c89-757c6744b4a0",
   "metadata": {},
   "outputs": [],
   "source": []
  }
 ],
 "metadata": {
  "kernelspec": {
   "display_name": "Python 3 (ipykernel)",
   "language": "python",
   "name": "python3"
  },
  "language_info": {
   "codemirror_mode": {
    "name": "ipython",
    "version": 3
   },
   "file_extension": ".py",
   "mimetype": "text/x-python",
   "name": "python",
   "nbconvert_exporter": "python",
   "pygments_lexer": "ipython3",
   "version": "3.11.9"
  }
 },
 "nbformat": 4,
 "nbformat_minor": 5
}
